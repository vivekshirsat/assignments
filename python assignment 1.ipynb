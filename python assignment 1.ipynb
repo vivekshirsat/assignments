{
 "cells": [
  {
   "cell_type": "markdown",
   "id": "1e3ccca6",
   "metadata": {},
   "source": [
    "# vivek n. shirsat python assignment 1"
   ]
  },
  {
   "cell_type": "markdown",
   "id": "777b86b1",
   "metadata": {},
   "source": [
    "Q1 Why do we call Python as a general purpose and high-level programming language?"
   ]
  },
  {
   "cell_type": "markdown",
   "id": "7471f3d4",
   "metadata": {},
   "source": [
    "ans : because it is easy to understand for human and specially it is object oriented"
   ]
  },
  {
   "cell_type": "markdown",
   "id": "5b394349",
   "metadata": {},
   "source": [
    "Q2. Why is Python called a dynamically typed language?"
   ]
  },
  {
   "cell_type": "markdown",
   "id": "f5181652",
   "metadata": {},
   "source": [
    "ans : if we don't declare vairable still we will not face any major problem and\n",
    "    this programming language also take care of memory management "
   ]
  },
  {
   "cell_type": "markdown",
   "id": "dfc7f670",
   "metadata": {},
   "source": [
    "Q3. List some pros and cons of Python programming language?"
   ]
  },
  {
   "cell_type": "markdown",
   "id": "1f9337e2",
   "metadata": {},
   "source": [
    "ans:\n",
    "pros- 1) it has extensive libraries 2) python is most used programming language 3) it enhance the productivity also it is easy to undrstand \n",
    "cons- 1) it is slightly slower than the compiled language 2) it consumption of memory is quite high 3) python is not 100% secure we have to provide a good level of security to protect our code."
   ]
  },
  {
   "cell_type": "markdown",
   "id": "80be4f40",
   "metadata": {},
   "source": [
    "Q4. In what all domains can we use Python?"
   ]
  },
  {
   "cell_type": "markdown",
   "id": "c062f8b3",
   "metadata": {},
   "source": [
    "ans : In data science , big data , automation , web development, software development, AI & ML and so on."
   ]
  },
  {
   "cell_type": "markdown",
   "id": "0104eeec",
   "metadata": {},
   "source": [
    "Q5. What are variable and how can we declare them?\n"
   ]
  },
  {
   "cell_type": "markdown",
   "id": "e73fcbe1",
   "metadata": {},
   "source": [
    "ans : Variables are containers for storing data values in programming language. we can use any alphabetical words to declare variable but most commonly used variable is X and Y"
   ]
  },
  {
   "cell_type": "markdown",
   "id": "222c5873",
   "metadata": {},
   "source": [
    "Q6. How can we take an input from the user in Python?"
   ]
  },
  {
   "cell_type": "markdown",
   "id": "eed96aba",
   "metadata": {},
   "source": [
    "ans: input() method. "
   ]
  },
  {
   "cell_type": "markdown",
   "id": "5e47bac6",
   "metadata": {},
   "source": [
    "Q7.What is the default datatype of the value that has been taken as an input using input() function?"
   ]
  },
  {
   "cell_type": "markdown",
   "id": "d1192c3e",
   "metadata": {},
   "source": [
    "ans : the string() we get by default when we use input()"
   ]
  },
  {
   "cell_type": "markdown",
   "id": "018d636b",
   "metadata": {},
   "source": [
    "Q8. What is type casting?"
   ]
  },
  {
   "cell_type": "markdown",
   "id": "ca6afe1b",
   "metadata": {},
   "source": [
    "ans: Type Casting is the method to convert the variable data type into a certain data type"
   ]
  },
  {
   "cell_type": "markdown",
   "id": "56c04f26",
   "metadata": {},
   "source": [
    "Q9. Can we take more than one input from the user using single input() function? If yes, how? If no, why?\n"
   ]
  },
  {
   "cell_type": "markdown",
   "id": "b1cc22db",
   "metadata": {},
   "source": [
    "ans : no, because in python there is certain limitation to take more than one input from using single input function."
   ]
  },
  {
   "cell_type": "markdown",
   "id": "29893a00",
   "metadata": {},
   "source": [
    "Q10. What are keywords?"
   ]
  },
  {
   "cell_type": "markdown",
   "id": "905175f5",
   "metadata": {},
   "source": [
    "ans : keywords are something which is predefined and reserved words that has special meaning"
   ]
  },
  {
   "cell_type": "markdown",
   "id": "89e4856b",
   "metadata": {},
   "source": [
    "Q11. Can we use keywords as a variable? Support your answer with reason."
   ]
  },
  {
   "cell_type": "markdown",
   "id": "7e2a5cf4",
   "metadata": {},
   "source": [
    "ans : We cannot use a keyword as a variable, because python language has it own defined syntax and structure."
   ]
  },
  {
   "cell_type": "markdown",
   "id": "1845ae3a",
   "metadata": {},
   "source": [
    "Q12. What is indentation? What's the use of indentaion in Python?"
   ]
  },
  {
   "cell_type": "markdown",
   "id": "b540d6e3",
   "metadata": {},
   "source": [
    "ans : identation refers space in the begining of the code line, Python uses indentation to indicate a block of code."
   ]
  },
  {
   "cell_type": "markdown",
   "id": "faddab91",
   "metadata": {},
   "source": [
    "Q13. How can we throw some output in Python?\n",
    " "
   ]
  },
  {
   "cell_type": "markdown",
   "id": "66795e15",
   "metadata": {},
   "source": [
    "ans : we use print() function to throw output in python"
   ]
  },
  {
   "cell_type": "markdown",
   "id": "6edf9f4d",
   "metadata": {},
   "source": [
    "Q14. What are operators in Python?"
   ]
  },
  {
   "cell_type": "markdown",
   "id": "75e65d8d",
   "metadata": {},
   "source": [
    "ans: operators are the arithmetic function such as addition subtraction multiplication division and so on"
   ]
  },
  {
   "cell_type": "markdown",
   "id": "8287abbb",
   "metadata": {},
   "source": [
    "Q15. What is difference between / and // operators?"
   ]
  },
  {
   "cell_type": "markdown",
   "id": "2f651a6c",
   "metadata": {},
   "source": [
    "ans : / it is for float division and // it is for integer division"
   ]
  },
  {
   "cell_type": "markdown",
   "id": "f147b10f",
   "metadata": {},
   "source": [
    "Q16. Write a code that gives following as an output.\n",
    "ans : "
   ]
  },
  {
   "cell_type": "code",
   "execution_count": null,
   "id": "13af8303",
   "metadata": {},
   "outputs": [],
   "source": [
    "name = 'inueron'\n",
    "name_multiply = name * 4\n",
    "print(name_multiply)"
   ]
  },
  {
   "cell_type": "markdown",
   "id": "0b792e56",
   "metadata": {},
   "source": [
    "Q17. Write a code to take a number as an input from the user and check if the number is odd or even."
   ]
  },
  {
   "cell_type": "code",
   "execution_count": null,
   "id": "532335a6",
   "metadata": {},
   "outputs": [],
   "source": [
    "num = int(input('enter number :'))\n",
    "if (num %2) == 0:\n",
    "    print(\"given number is even\")\n",
    "\n",
    "else:\n",
    "    print(\"given number is odd\")"
   ]
  },
  {
   "cell_type": "markdown",
   "id": "8fee7f68",
   "metadata": {},
   "source": [
    "Q18. What are boolean operator?"
   ]
  },
  {
   "cell_type": "markdown",
   "id": "769b64b3",
   "metadata": {},
   "source": [
    "ans : boolean operator are those whose values is in true or false "
   ]
  },
  {
   "cell_type": "markdown",
   "id": "d01a7601",
   "metadata": {},
   "source": [
    "Q19. What will the output of the following? "
   ]
  },
  {
   "cell_type": "markdown",
   "id": "46420bac",
   "metadata": {},
   "source": [
    "1 or 0 output : 1\n",
    "\n",
    "0 and 0 output : 0\n",
    "\n",
    "True and False and True output: False\n",
    "\n",
    "1 or 0 or 0 output: 1"
   ]
  },
  {
   "cell_type": "markdown",
   "id": "84137752",
   "metadata": {},
   "source": [
    "Q20. What are conditional statements in Python?"
   ]
  },
  {
   "cell_type": "markdown",
   "id": "a108395c",
   "metadata": {},
   "source": [
    "ans: we use IF statement in python when we have to put certain condition on our code to get desire output"
   ]
  },
  {
   "cell_type": "markdown",
   "id": "2575fcfe",
   "metadata": {},
   "source": [
    "Q21. What is use of 'if', 'elif' and 'else' keywords?"
   ]
  },
  {
   "cell_type": "markdown",
   "id": "da75b3ea",
   "metadata": {},
   "source": [
    "ans: The if , elif and else statement is used in Python for decision making."
   ]
  },
  {
   "cell_type": "markdown",
   "id": "21381a10",
   "metadata": {},
   "source": [
    "Q22. Write a code to take the age of person as an input and if age >= 18 display \"I can vote\". If age is < 18 display \"I can't vote\"."
   ]
  },
  {
   "cell_type": "code",
   "execution_count": null,
   "id": "d3d1b82f",
   "metadata": {},
   "outputs": [],
   "source": [
    "user_age = 10\n",
    "if user_age >= 18 :\n",
    "    print(\"I can vote\")\n",
    "else:\n",
    "    print(\"i can't vote\")\n",
    "  "
   ]
  },
  {
   "cell_type": "markdown",
   "id": "011d5eda",
   "metadata": {},
   "source": [
    "Q23. Write a code that displays the sum of all the even numbers from the given list.\n",
    "\n",
    "numbers = [12, 75, 150, 180, 145, 525, 50]"
   ]
  },
  {
   "cell_type": "code",
   "execution_count": null,
   "id": "570aa3ec",
   "metadata": {},
   "outputs": [],
   "source": [
    "numbers = [12, 75, 150, 180, 145, 525, 50]\n",
    "sum(numbers)\n"
   ]
  },
  {
   "cell_type": "markdown",
   "id": "499f10bd",
   "metadata": {},
   "source": [
    "Q24.Write a code to take 3 numbers as an input from the user and display the greatest no as output."
   ]
  },
  {
   "cell_type": "code",
   "execution_count": 1,
   "id": "624181ab",
   "metadata": {},
   "outputs": [
    {
     "name": "stdout",
     "output_type": "stream",
     "text": [
      "18\n"
     ]
    }
   ],
   "source": [
    "num = [5,10,18]\n",
    "input = int(max(num))\n",
    "print(input)"
   ]
  },
  {
   "cell_type": "markdown",
   "id": "ed4fec51",
   "metadata": {},
   "source": [
    "Q25. Write a program to display only those numbers from a list that satisfy the following conditions\n",
    "\n",
    "The number must be divisible by five\n",
    "\n",
    "If the number is greater than 150, then skip it and move to the next number\n",
    "\n",
    "If the number is greater than 500, then stop the loop"
   ]
  },
  {
   "cell_type": "code",
   "execution_count": 2,
   "id": "fcc6555a",
   "metadata": {},
   "outputs": [
    {
     "name": "stdout",
     "output_type": "stream",
     "text": [
      "[75, 150, 145]\n"
     ]
    }
   ],
   "source": [
    "num = [12, 75, 150, 180, 145, 525, 50]\n",
    "list1 = []\n",
    "for i in num:\n",
    "    if i > 150:\n",
    "        if i > 500:\n",
    "            break\n",
    "        continue\n",
    "    if i %5 == 0:\n",
    "        list1.append(i)\n",
    "        \n",
    "print(list1)"
   ]
  },
  {
   "cell_type": "code",
   "execution_count": null,
   "id": "64b29bc1",
   "metadata": {},
   "outputs": [],
   "source": []
  }
 ],
 "metadata": {
  "kernelspec": {
   "display_name": "Python 3",
   "language": "python",
   "name": "python3"
  },
  "language_info": {
   "codemirror_mode": {
    "name": "ipython",
    "version": 3
   },
   "file_extension": ".py",
   "mimetype": "text/x-python",
   "name": "python",
   "nbconvert_exporter": "python",
   "pygments_lexer": "ipython3",
   "version": "3.8.8"
  }
 },
 "nbformat": 4,
 "nbformat_minor": 5
}
