{
 "cells": [
  {
   "cell_type": "markdown",
   "id": "198bc295",
   "metadata": {},
   "source": [
    "# python mega assignment"
   ]
  },
  {
   "cell_type": "markdown",
   "id": "de9010f4",
   "metadata": {},
   "source": [
    "# name : Vivek N. Shirsat"
   ]
  },
  {
   "cell_type": "markdown",
   "id": "5d727dca",
   "metadata": {},
   "source": [
    "Q1 Why do we call Python as a general purpose and high-level programming language?"
   ]
  },
  {
   "cell_type": "markdown",
   "id": "56308844",
   "metadata": {},
   "source": [
    "ans : because it is easy to understand for human and specially it is object oriented"
   ]
  },
  {
   "cell_type": "markdown",
   "id": "0c1dc790",
   "metadata": {},
   "source": [
    "Q2. Why is Python called a dynamically typed language?"
   ]
  },
  {
   "cell_type": "markdown",
   "id": "e9d53421",
   "metadata": {},
   "source": [
    "ans : if we don't declare vairable still we will not face any major problem and\n",
    "    this programming language also take care of memory management "
   ]
  },
  {
   "cell_type": "markdown",
   "id": "4dfc264d",
   "metadata": {},
   "source": [
    "Q3. List some pros and cons of Python programming language?\n"
   ]
  },
  {
   "cell_type": "markdown",
   "id": "991e842e",
   "metadata": {},
   "source": [
    "ans:\n",
    "pros- 1) it has extensive libraries 2) python is most used programming language 3) it enhance the productivity also it is easy to undrstand \n",
    "cons- 1) it is slightly slower than the compiled language 2) it consumption of memory is quite high 3) python is not 100% secure we have to provide a good level of security to protect our code."
   ]
  },
  {
   "cell_type": "markdown",
   "id": "9d83039c",
   "metadata": {},
   "source": [
    "Q4. In what all domains can we use Python?\n"
   ]
  },
  {
   "cell_type": "markdown",
   "id": "28419b32",
   "metadata": {},
   "source": [
    "ans : In data science , big data , automation , web development, software development, AI & ML and so on."
   ]
  },
  {
   "cell_type": "markdown",
   "id": "89b724e8",
   "metadata": {},
   "source": [
    "Q5. What are variable and how can we declare them?\n"
   ]
  },
  {
   "cell_type": "markdown",
   "id": "bd0d0bab",
   "metadata": {},
   "source": [
    "ans : Variables are containers for storing data values in programming language. we can use any alphabetical words to declare variable but most commonly used variable is X and Y"
   ]
  },
  {
   "cell_type": "markdown",
   "id": "4f2ad6bb",
   "metadata": {},
   "source": [
    "Q6. How can we take an input from the user in Python?\n"
   ]
  },
  {
   "cell_type": "markdown",
   "id": "811cad0d",
   "metadata": {},
   "source": [
    "ans: input() method.    "
   ]
  },
  {
   "cell_type": "markdown",
   "id": "bd0ff4ae",
   "metadata": {},
   "source": [
    "Q7.What is the default datatype of the value that has been taken as an input using input() function?\n"
   ]
  },
  {
   "cell_type": "markdown",
   "id": "05815044",
   "metadata": {},
   "source": [
    "ans : the string() we get by default when we use input()"
   ]
  },
  {
   "cell_type": "markdown",
   "id": "e0b60be6",
   "metadata": {},
   "source": [
    "Q8. What is type casting?\n"
   ]
  },
  {
   "cell_type": "markdown",
   "id": "e2ab122a",
   "metadata": {},
   "source": [
    "ans: Type Casting is the method to convert the variable data type into a certain data type"
   ]
  },
  {
   "cell_type": "markdown",
   "id": "f3a87fb2",
   "metadata": {},
   "source": [
    "Q9. Can we take more than one input from the user using single input() function? If yes, how? If no, why?\n"
   ]
  },
  {
   "cell_type": "markdown",
   "id": "d6df742a",
   "metadata": {},
   "source": [
    "ans : no, because in python there is certain limitation to take more than one input from using single input function."
   ]
  },
  {
   "cell_type": "markdown",
   "id": "d7aba2ff",
   "metadata": {},
   "source": [
    "Q10. What are keywords?\n"
   ]
  },
  {
   "cell_type": "markdown",
   "id": "b55f474c",
   "metadata": {},
   "source": [
    "ans : keywords are something which is predefined and reserved words that has special meaning"
   ]
  },
  {
   "cell_type": "markdown",
   "id": "1ca8c0ef",
   "metadata": {},
   "source": [
    "Q11. Can we use keywords as a variable? Support your answer with reason.\n"
   ]
  },
  {
   "cell_type": "markdown",
   "id": "5dfba3a5",
   "metadata": {},
   "source": [
    "ans : We cannot use a keyword as a variable, because python language has it own defined syntax and structure."
   ]
  },
  {
   "cell_type": "markdown",
   "id": "555e1d6c",
   "metadata": {},
   "source": [
    "Q12. What is indentation? What's the use of indentaion in Python?\n"
   ]
  },
  {
   "cell_type": "markdown",
   "id": "da2996d4",
   "metadata": {},
   "source": [
    "ans : identation refers space in the begining of the code line, Python uses indentation to indicate a block of code."
   ]
  },
  {
   "cell_type": "markdown",
   "id": "d3d52b88",
   "metadata": {},
   "source": [
    "Q13. How can we throw some output in Python?\n",
    " "
   ]
  },
  {
   "cell_type": "markdown",
   "id": "2773a4fa",
   "metadata": {},
   "source": [
    "ans : we use print() function to throw output in python"
   ]
  },
  {
   "cell_type": "markdown",
   "id": "2ccd9711",
   "metadata": {},
   "source": [
    "Q14. What are operators in Python?\n"
   ]
  },
  {
   "cell_type": "markdown",
   "id": "06ddf6a5",
   "metadata": {},
   "source": [
    "ans: operators are the arithmetic function such as addition subtraction multiplication division and so on"
   ]
  },
  {
   "cell_type": "markdown",
   "id": "23511cba",
   "metadata": {},
   "source": [
    "Q15. What is difference between / and // operators?\n"
   ]
  },
  {
   "cell_type": "markdown",
   "id": "fc010017",
   "metadata": {},
   "source": [
    "ans : / it is for float division and // it is for integer division"
   ]
  },
  {
   "cell_type": "markdown",
   "id": "b4f96690",
   "metadata": {},
   "source": [
    "Q16. Write a code that gives following as an output.\n",
    "ans : "
   ]
  },
  {
   "cell_type": "code",
   "execution_count": null,
   "id": "6e524705",
   "metadata": {},
   "outputs": [],
   "source": [
    "name = 'inueron'\n",
    "name_multiply = name * 4\n",
    "print(name_multiply)"
   ]
  },
  {
   "cell_type": "markdown",
   "id": "7ebe6802",
   "metadata": {},
   "source": [
    "Q17. Write a code to take a number as an input from the user and check if the number is odd or even."
   ]
  },
  {
   "cell_type": "code",
   "execution_count": null,
   "id": "408d33f0",
   "metadata": {},
   "outputs": [],
   "source": [
    "num = int(input('enter number :'))\n",
    "if (num %2) == 0:\n",
    "    print(\"given number is even\")\n",
    "\n",
    "else:\n",
    "    print(\"given number is odd\")"
   ]
  },
  {
   "cell_type": "markdown",
   "id": "2ec688eb",
   "metadata": {},
   "source": [
    "Q18. What are boolean operator?\n"
   ]
  },
  {
   "cell_type": "markdown",
   "id": "a9a9833b",
   "metadata": {},
   "source": [
    "ans : boolean operator are those whose values is in true or false "
   ]
  },
  {
   "cell_type": "markdown",
   "id": "50c59b01",
   "metadata": {},
   "source": [
    "Q19. What will the output of the following? "
   ]
  },
  {
   "cell_type": "markdown",
   "id": "cc2e4d0b",
   "metadata": {},
   "source": [
    "1 or 0 output : 1\n",
    "\n",
    "0 and 0 output : 0\n",
    "\n",
    "True and False and True output: False\n",
    "\n",
    "1 or 0 or 0 output: 1"
   ]
  },
  {
   "cell_type": "markdown",
   "id": "caa885aa",
   "metadata": {},
   "source": [
    "Q20. What are conditional statements in Python?\n"
   ]
  },
  {
   "cell_type": "markdown",
   "id": "27c58884",
   "metadata": {},
   "source": [
    "ans: we use IF statement in python when we have to put certain condition on our code to get desire output "
   ]
  },
  {
   "cell_type": "markdown",
   "id": "8c3b7fde",
   "metadata": {},
   "source": [
    "Q21. What is use of 'if', 'elif' and 'else' keywords?\n"
   ]
  },
  {
   "cell_type": "markdown",
   "id": "da7cdebd",
   "metadata": {},
   "source": [
    "ans: The if , elif and else statement is used in Python for decision making."
   ]
  },
  {
   "cell_type": "markdown",
   "id": "57ba5f31",
   "metadata": {},
   "source": [
    "Q22. Write a code to take the age of person as an input and if age >= 18 display \"I can vote\". If age is < 18 display \"I can't vote\"."
   ]
  },
  {
   "cell_type": "code",
   "execution_count": null,
   "id": "3c9930e3",
   "metadata": {},
   "outputs": [],
   "source": [
    "user_age = 10\n",
    "if user_age >= 18 :\n",
    "    print(\"I can vote\")\n",
    "else:\n",
    "    print(\"i can't vote\")\n",
    "  "
   ]
  },
  {
   "cell_type": "markdown",
   "id": "588f90c5",
   "metadata": {},
   "source": [
    "Q23. Write a code that displays the sum of all the even numbers from the given list.\n",
    "\n",
    "numbers = [12, 75, 150, 180, 145, 525, 50]"
   ]
  },
  {
   "cell_type": "code",
   "execution_count": 1,
   "id": "8e252107",
   "metadata": {},
   "outputs": [
    {
     "name": "stdout",
     "output_type": "stream",
     "text": [
      "392\n"
     ]
    }
   ],
   "source": [
    "numbers = [12, 75, 150, 180, 145, 525, 50]\n",
    "\n",
    "total = sum([num for num in numbers if(num %2==0 )])\n",
    "print(total)"
   ]
  },
  {
   "cell_type": "markdown",
   "id": "867d3bd0",
   "metadata": {},
   "source": [
    "Q24.Write a code to take 3 numbers as an input from the user and display the greatest no as output."
   ]
  },
  {
   "cell_type": "code",
   "execution_count": null,
   "id": "e82f1dec",
   "metadata": {},
   "outputs": [],
   "source": [
    "num = [5,10,18]\n",
    "input = int(max(num))\n",
    "print(input)"
   ]
  },
  {
   "cell_type": "markdown",
   "id": "cd5dcc67",
   "metadata": {},
   "source": [
    "Q25. Write a program to display only those numbers from a list that satisfy the following conditions\n",
    "\n",
    "The number must be divisible by five\n",
    "\n",
    "If the number is greater than 150, then skip it and move to the next number\n",
    "\n",
    "If the number is greater than 500, then stop the loop"
   ]
  },
  {
   "cell_type": "code",
   "execution_count": 101,
   "id": "8b0c4e98",
   "metadata": {},
   "outputs": [
    {
     "name": "stdout",
     "output_type": "stream",
     "text": [
      "[75, 150, 145]\n"
     ]
    }
   ],
   "source": [
    "num = [12, 75, 150, 180, 145, 525, 50]\n",
    "list1 = []\n",
    "for i in num:\n",
    "    if i > 150:\n",
    "        if i > 500:\n",
    "            break\n",
    "        continue\n",
    "    if i %5 == 0:\n",
    "        list1.append(i)\n",
    "        \n",
    "print(list1)\n"
   ]
  },
  {
   "cell_type": "markdown",
   "id": "29b1ce44",
   "metadata": {},
   "source": [
    "Q26. What is a string? How can we declare string in Python?"
   ]
  },
  {
   "cell_type": "markdown",
   "id": "09cb7b8a",
   "metadata": {},
   "source": [
    "ans: string is an array we use string[] function in python"
   ]
  },
  {
   "cell_type": "markdown",
   "id": "a38b01fa",
   "metadata": {},
   "source": [
    "Q27. How can we access the string using its index?"
   ]
  },
  {
   "cell_type": "markdown",
   "id": "5453687e",
   "metadata": {},
   "source": [
    "ans:string can be accessed by string name followed by a number in square brackets ( [] )."
   ]
  },
  {
   "cell_type": "markdown",
   "id": "e421fa71",
   "metadata": {},
   "source": [
    "Q28. Write a code to get the desired output of the following\n",
    "string = \"Big Data iNeuron\"\n",
    "desired_output = \"iNeuron\""
   ]
  },
  {
   "cell_type": "code",
   "execution_count": null,
   "id": "00fff80c",
   "metadata": {},
   "outputs": [],
   "source": [
    " string = \"Big Data iNeuron\"\n",
    "print(string.split()[2])"
   ]
  },
  {
   "cell_type": "markdown",
   "id": "a68c60f0",
   "metadata": {},
   "source": [
    "Q29. Write a code to get the desired output of the following\n",
    "\n",
    "string = \"Big Data iNeuron\"\n",
    "desired_output = \"norueNi\""
   ]
  },
  {
   "cell_type": "code",
   "execution_count": null,
   "id": "a9b4864d",
   "metadata": {},
   "outputs": [],
   "source": [
    "string = \"Big Data iNeuron\"\n",
    "desired_output = string.split()[-1]\n",
    "print(desired_output[::-1])"
   ]
  },
  {
   "cell_type": "markdown",
   "id": "0c867173",
   "metadata": {},
   "source": [
    "Q30. Resverse the string given in the above question."
   ]
  },
  {
   "cell_type": "code",
   "execution_count": null,
   "id": "914e6fea",
   "metadata": {},
   "outputs": [],
   "source": [
    "\n",
    "string = 'norueNi'\n",
    "print(string[::-1])"
   ]
  },
  {
   "cell_type": "markdown",
   "id": "05a79f28",
   "metadata": {},
   "source": [
    "Q31. How can you delete entire string at once?"
   ]
  },
  {
   "cell_type": "markdown",
   "id": "86462528",
   "metadata": {},
   "source": [
    "ans: we use del operator to delete entire string at once"
   ]
  },
  {
   "cell_type": "markdown",
   "id": "8f383d69",
   "metadata": {},
   "source": [
    "Q32. What is escape sequence?"
   ]
  },
  {
   "cell_type": "markdown",
   "id": "800741f4",
   "metadata": {},
   "source": [
    "ans: To insert characters that are illegal in a string, use an escape character."
   ]
  },
  {
   "cell_type": "markdown",
   "id": "a41eade2",
   "metadata": {},
   "source": [
    "Q33. How can you print the below string?\n",
    "\n",
    "'iNeuron's Big Data Course'"
   ]
  },
  {
   "cell_type": "markdown",
   "id": "ec12b1fd",
   "metadata": {},
   "source": [
    "ans : we use \" \" to print above statement so \"iNeuron's Big Data Course\""
   ]
  },
  {
   "cell_type": "markdown",
   "id": "691b6787",
   "metadata": {},
   "source": [
    "Q34. What is a list in Python?"
   ]
  },
  {
   "cell_type": "markdown",
   "id": "c42b120a",
   "metadata": {},
   "source": [
    "ans: list are used to store multiple items in single variable."
   ]
  },
  {
   "cell_type": "markdown",
   "id": "5345406a",
   "metadata": {},
   "source": [
    "Q35. How can you create a list in Python?"
   ]
  },
  {
   "cell_type": "markdown",
   "id": "3283c313",
   "metadata": {},
   "source": [
    "ans : list can create by using [] square bracket."
   ]
  },
  {
   "cell_type": "markdown",
   "id": "3085c311",
   "metadata": {},
   "source": [
    "Q36. How can we access the elements in a list?"
   ]
  },
  {
   "cell_type": "markdown",
   "id": "addcf164",
   "metadata": {},
   "source": [
    "ans : to access the elements in a list we use index operator "
   ]
  },
  {
   "cell_type": "markdown",
   "id": "b9999e4b",
   "metadata": {},
   "source": [
    "Q37. Write a code to access the word \"iNeuron\" from the given list.\n",
    "\n",
    "lst = [1,2,3,\"Hi\",[45,54, \"iNeuron\"], \"Big Data\"]"
   ]
  },
  {
   "cell_type": "code",
   "execution_count": null,
   "id": "18d6cf3d",
   "metadata": {},
   "outputs": [],
   "source": [
    "lst = [1,2,3,\"Hi\",[45,54, \"iNeuron\"], \"Big Data\"]\n",
    "print(lst[4][2])"
   ]
  },
  {
   "cell_type": "markdown",
   "id": "0c956d21",
   "metadata": {},
   "source": [
    "Q38. Take a list as an input from the user and find the length of the list."
   ]
  },
  {
   "cell_type": "code",
   "execution_count": null,
   "id": "301984a4",
   "metadata": {},
   "outputs": [],
   "source": [
    "list2 = [1,5,2,3,4,6,7,2,9]\n",
    "print(len(list2))"
   ]
  },
  {
   "cell_type": "markdown",
   "id": "a11bdaeb",
   "metadata": {},
   "source": [
    "Q39. Add the word \"Big\" in the 3rd index of the given list.\n",
    "\n",
    "lst = [\"Welcome\", \"to\", \"Data\", \"course\"]"
   ]
  },
  {
   "cell_type": "code",
   "execution_count": null,
   "id": "507bac33",
   "metadata": {},
   "outputs": [],
   "source": [
    "lst = [\"Welcome\", \"to\", \"Data\", \"course\"]\n",
    "\n",
    "lst[2] = \"Big Data\"\n",
    "\n",
    "print(lst)"
   ]
  },
  {
   "cell_type": "markdown",
   "id": "957a6dd6",
   "metadata": {},
   "source": [
    "Q40. What is a tuple? How is it different from list?"
   ]
  },
  {
   "cell_type": "markdown",
   "id": "9eb97d51",
   "metadata": {},
   "source": [
    "ans: tuple used to store multiple items to in single variable ,tuples are immutable and lists are mutable."
   ]
  },
  {
   "cell_type": "markdown",
   "id": "204e3613",
   "metadata": {},
   "source": [
    "Q41. How can you create a tuple in Python?"
   ]
  },
  {
   "cell_type": "markdown",
   "id": "fa384ff7",
   "metadata": {},
   "source": [
    "ans :  enclosing all the comma-separated elements inside the parenthesis ()"
   ]
  },
  {
   "cell_type": "markdown",
   "id": "c16142eb",
   "metadata": {},
   "source": [
    "Q42. Create a tuple and try to add your name in the tuple. Are you able to do it? Support your answer with reason."
   ]
  },
  {
   "cell_type": "markdown",
   "id": "910822f5",
   "metadata": {},
   "source": [
    "ans: yes, we can do it because tuple is just like a list so the sequence of values stored in a tuple can be of any type, and they are indexed by integers.  "
   ]
  },
  {
   "cell_type": "markdown",
   "id": "a1ab2853",
   "metadata": {},
   "source": [
    "Q43. Can two tuple be appended. If yes, write a code for it. If not, why?"
   ]
  },
  {
   "cell_type": "markdown",
   "id": "1d918f86",
   "metadata": {},
   "source": [
    "ans : no, you cannot use append of extend() function because tuples are immutable you can't add elements to a tuple because of their immutable property"
   ]
  },
  {
   "cell_type": "markdown",
   "id": "9bad26ab",
   "metadata": {},
   "source": [
    "Q44. Take a tuple as an input and print the count of elements in it."
   ]
  },
  {
   "cell_type": "code",
   "execution_count": null,
   "id": "9aace6f2",
   "metadata": {},
   "outputs": [],
   "source": [
    "tup = (1,2,5,2,8,5,2,4,1)\n",
    "\n",
    "y = tup.count(2)\n",
    "print(y)"
   ]
  },
  {
   "cell_type": "markdown",
   "id": "33c89a3c",
   "metadata": {},
   "source": [
    "Q45. What are sets in Python?"
   ]
  },
  {
   "cell_type": "markdown",
   "id": "ea6a54d3",
   "metadata": {},
   "source": [
    "ans: sets are used to store multiple items in single variable and  A set is a collection which is unordered, unchangeable, and unindexed."
   ]
  },
  {
   "cell_type": "markdown",
   "id": "8d529ac0",
   "metadata": {},
   "source": [
    "Q46. How can you create a set?"
   ]
  },
  {
   "cell_type": "markdown",
   "id": "7b1d7129",
   "metadata": {},
   "source": [
    "ans: by placing all the items inside curly braces {} but for empty we use set() function in round bracket  "
   ]
  },
  {
   "cell_type": "markdown",
   "id": "3ed0bf1e",
   "metadata": {},
   "source": [
    "Q47. Create a set and add \"iNeuron\" in your set."
   ]
  },
  {
   "cell_type": "code",
   "execution_count": null,
   "id": "c7d3b4e7",
   "metadata": {},
   "outputs": [],
   "source": [
    "set1 = set()\n",
    "set1.add('iNeuron')\n",
    "print(set1)"
   ]
  },
  {
   "cell_type": "markdown",
   "id": "89bf84b5",
   "metadata": {},
   "source": [
    "Q48. Try to add multiple values using add() function."
   ]
  },
  {
   "cell_type": "code",
   "execution_count": null,
   "id": "afd671e4",
   "metadata": {},
   "outputs": [],
   "source": [
    "set2 = set()\n",
    "set2.add(1)\n",
    "set2.add(1)\n",
    "set2.add(2)\n",
    "set2.add(5)\n",
    "print(set2)"
   ]
  },
  {
   "cell_type": "markdown",
   "id": "02e0ee86",
   "metadata": {},
   "source": [
    "Q49. How is update() different from add()?"
   ]
  },
  {
   "cell_type": "markdown",
   "id": "f730925b",
   "metadata": {},
   "source": [
    "ans:  add() is intended for a single element while, update() is for the introduced of different sets."
   ]
  },
  {
   "cell_type": "markdown",
   "id": "c61ec6bf",
   "metadata": {},
   "source": [
    "Q50. What is clear() in sets?"
   ]
  },
  {
   "cell_type": "markdown",
   "id": "40f757b8",
   "metadata": {},
   "source": [
    "ans:The clear() method removes all elements in a set."
   ]
  },
  {
   "cell_type": "markdown",
   "id": "a321580e",
   "metadata": {},
   "source": [
    "Q51. What is frozen set?"
   ]
  },
  {
   "cell_type": "markdown",
   "id": "ff992726",
   "metadata": {},
   "source": [
    "ans: it is immutable version of python sets."
   ]
  },
  {
   "cell_type": "markdown",
   "id": "f125ee77",
   "metadata": {},
   "source": [
    "\n"
   ]
  },
  {
   "cell_type": "markdown",
   "id": "1d6cc51d",
   "metadata": {},
   "source": [
    "Q52. How is frozen set different from set?"
   ]
  },
  {
   "cell_type": "markdown",
   "id": "e2eac427",
   "metadata": {},
   "source": [
    "ans : A set is an unordered and unindexed collection of unique elements and Sets are mutable on other side the frozonsets is an unordered and unindexed collection of unique elements. It is immutable"
   ]
  },
  {
   "cell_type": "markdown",
   "id": "bc8ad5f9",
   "metadata": {},
   "source": [
    "Q53. What is union() in sets? Explain via code."
   ]
  },
  {
   "cell_type": "markdown",
   "id": "d58ebfe9",
   "metadata": {},
   "source": [
    "ans : The union of two sets is a set containing all elements that are in A or in B . For e.g. {1,2}∪{2,3}={1,2,3}"
   ]
  },
  {
   "cell_type": "markdown",
   "id": "d3d20b92",
   "metadata": {},
   "source": [
    "Q54. What is intersection() in sets? Explain via code."
   ]
  },
  {
   "cell_type": "markdown",
   "id": "f5747499",
   "metadata": {},
   "source": [
    "ans: intersection() function returns a set that contains the similarity between two or more sets."
   ]
  },
  {
   "cell_type": "markdown",
   "id": "1a35ffe1",
   "metadata": {},
   "source": [
    "Q55. What is dictionary in Python?"
   ]
  },
  {
   "cell_type": "markdown",
   "id": "ceff97f3",
   "metadata": {},
   "source": [
    "ans: Dictionary are used for storing data values in form of keys:values pairs."
   ]
  },
  {
   "cell_type": "markdown",
   "id": "419a4c32",
   "metadata": {},
   "source": [
    "Q56. How is dictionary different from all other data structures."
   ]
  },
  {
   "cell_type": "markdown",
   "id": "6fee552d",
   "metadata": {},
   "source": [
    "ans:  A dictionary has a set of keys and each key has a single associated value."
   ]
  },
  {
   "cell_type": "markdown",
   "id": "ed278b0c",
   "metadata": {},
   "source": [
    "Q57. How can we delare a dictionary in Python?"
   ]
  },
  {
   "cell_type": "markdown",
   "id": "a0073aa9",
   "metadata": {},
   "source": [
    "ans : to declare dictionary we use this {key : values}. "
   ]
  },
  {
   "cell_type": "markdown",
   "id": "5d79115f",
   "metadata": {},
   "source": [
    "Q58. What will the output of the following?\n",
    "\n",
    "var = {}\n",
    "print(type(var))"
   ]
  },
  {
   "cell_type": "markdown",
   "id": "dc53a0ae",
   "metadata": {},
   "source": [
    "ans : it will show you type of var that is dictionary which represent as <class 'dict'>."
   ]
  },
  {
   "cell_type": "markdown",
   "id": "d0ee9d59",
   "metadata": {},
   "source": [
    "Q59. How can we add an element in a dictionary?"
   ]
  },
  {
   "cell_type": "markdown",
   "id": "b0ee0dab",
   "metadata": {},
   "source": [
    "ans: to add elements in dict we use built in function append()."
   ]
  },
  {
   "cell_type": "markdown",
   "id": "3a0f745c",
   "metadata": {},
   "source": [
    "Q60. Create a dictionary and access all the values in that dictionary."
   ]
  },
  {
   "cell_type": "code",
   "execution_count": null,
   "id": "8723314a",
   "metadata": {},
   "outputs": [],
   "source": [
    "dict1 = {'name':'vivek','age':22,'gender':'male'}\n",
    "print(list(dict1.values()))"
   ]
  },
  {
   "cell_type": "markdown",
   "id": "ec214fc4",
   "metadata": {},
   "source": [
    "Q61. Create a nested dictionary and access all the element in the inner dictionary."
   ]
  },
  {
   "cell_type": "code",
   "execution_count": null,
   "id": "d7429d53",
   "metadata": {},
   "outputs": [],
   "source": [
    "people = {1: {'name': 'John', 'age': '27', 'sex': 'Male'},\n",
    "          2: {'name': 'Marie', 'age': '22', 'sex': 'Female'}}\n",
    "\n",
    "print(people)"
   ]
  },
  {
   "cell_type": "markdown",
   "id": "416899ed",
   "metadata": {},
   "source": [
    "Q62. What is the use of get() function?"
   ]
  },
  {
   "cell_type": "markdown",
   "id": "0d0ea5f7",
   "metadata": {},
   "source": [
    " ans: it is used to read a string or a text line."
   ]
  },
  {
   "cell_type": "markdown",
   "id": "1e2cc7ea",
   "metadata": {},
   "source": [
    "Q63. What is the use of items() function?"
   ]
  },
  {
   "cell_type": "markdown",
   "id": "bc1e8bad",
   "metadata": {},
   "source": [
    "ans : the items() method returns a view object. the view object contains the dictionary as tuples."
   ]
  },
  {
   "cell_type": "markdown",
   "id": "830b0143",
   "metadata": {},
   "source": [
    "Q64. What is the use of pop() function?"
   ]
  },
  {
   "cell_type": "markdown",
   "id": "d59ad922",
   "metadata": {},
   "source": [
    "ans : The pop() method removes the item at the given index from the list and returns the removed item."
   ]
  },
  {
   "cell_type": "markdown",
   "id": "ab54a9d1",
   "metadata": {},
   "source": [
    "Q65. What is the use of popitems() function?"
   ]
  },
  {
   "cell_type": "markdown",
   "id": "556c8a7c",
   "metadata": {},
   "source": [
    "ans : The popitem() method removes the item that was last inserted into the dictionary."
   ]
  },
  {
   "cell_type": "markdown",
   "id": "8d6f7c83",
   "metadata": {},
   "source": [
    "Q66. What is the use of keys() function?"
   ]
  },
  {
   "cell_type": "markdown",
   "id": "c6551bcf",
   "metadata": {},
   "source": [
    "ans : the keys() method returns a view object. The view object contains the keys of the dictionary."
   ]
  },
  {
   "cell_type": "markdown",
   "id": "5cc458dd",
   "metadata": {},
   "source": [
    "Q67. What is the use of values() function?"
   ]
  },
  {
   "cell_type": "markdown",
   "id": "581ee17b",
   "metadata": {},
   "source": [
    "ans :  the values() method returns a view object. The view object contains the values of the dictionary."
   ]
  },
  {
   "cell_type": "markdown",
   "id": "36dc924b",
   "metadata": {},
   "source": [
    "Q68. What are loops in Python?"
   ]
  },
  {
   "cell_type": "markdown",
   "id": "04e68bfe",
   "metadata": {},
   "source": [
    "ans : Looping means repeating something over and over until a particular condition is satisfied. "
   ]
  },
  {
   "cell_type": "markdown",
   "id": "263755a6",
   "metadata": {},
   "source": [
    "Q69. How many type of loop are there in Python?"
   ]
  },
  {
   "cell_type": "markdown",
   "id": "f91164ee",
   "metadata": {},
   "source": [
    "ans : there are 3 types of loop like while loop, for loop and nested loop."
   ]
  },
  {
   "cell_type": "markdown",
   "id": "5d3b6635",
   "metadata": {},
   "source": [
    "Q70. What is the difference between for and while loops?"
   ]
  },
  {
   "cell_type": "markdown",
   "id": "10cfeade",
   "metadata": {},
   "source": [
    "ans : for loop is used when the number of iterations is known.\tand while loop is used when the number of iterations is not known."
   ]
  },
  {
   "cell_type": "markdown",
   "id": "cdc73d20",
   "metadata": {},
   "source": [
    "Q71. What is the use of continue statement?"
   ]
  },
  {
   "cell_type": "markdown",
   "id": "d4a852c7",
   "metadata": {},
   "source": [
    "ans : Python Continue Statement skips the execution of the program block from after the continue statement and forces the control to start the next iteration."
   ]
  },
  {
   "cell_type": "markdown",
   "id": "8e277e98",
   "metadata": {},
   "source": [
    "Q72. What is the use of break statement?"
   ]
  },
  {
   "cell_type": "markdown",
   "id": "44b7a2e2",
   "metadata": {},
   "source": [
    "ans : Python break is used to terminate the execution of the loop. "
   ]
  },
  {
   "cell_type": "markdown",
   "id": "e66d6f8c",
   "metadata": {},
   "source": [
    "Q73. What is the use of pass statement?"
   ]
  },
  {
   "cell_type": "markdown",
   "id": "c3bc5eb9",
   "metadata": {},
   "source": [
    "ans : you avoid getting an error when empty code is not allowed like in looping the empty code gives error so we use pass stateement to avoid error."
   ]
  },
  {
   "cell_type": "markdown",
   "id": "edfd3d1a",
   "metadata": {},
   "source": [
    "Q74. What is the use of range() function"
   ]
  },
  {
   "cell_type": "markdown",
   "id": "ef9dd45d",
   "metadata": {},
   "source": [
    "ans : The range() function returns a sequence of numbers and stops before mentioned number."
   ]
  },
  {
   "cell_type": "markdown",
   "id": "3a2fde0c",
   "metadata": {},
   "source": [
    "Q75. How can you loop over a dictionary?"
   ]
  },
  {
   "cell_type": "markdown",
   "id": "84b3ed23",
   "metadata": {},
   "source": [
    "ans : Iterating over dictionaries using ‘for’ loops for iterating our keys and printing all the keys present in the Dictionary."
   ]
  },
  {
   "cell_type": "markdown",
   "id": "9a92ab8e",
   "metadata": {},
   "source": [
    "#### coding part"
   ]
  },
  {
   "cell_type": "markdown",
   "id": "b9143e7d",
   "metadata": {},
   "source": [
    "Q76. Write a Python program to find the factorial of a given number."
   ]
  },
  {
   "cell_type": "code",
   "execution_count": null,
   "id": "d802461e",
   "metadata": {},
   "outputs": [],
   "source": [
    "def factorial(a):\n",
    "\n",
    "    if a == 0 or a == 1:\n",
    "       return 1\n",
    "\n",
    "    result = 1\n",
    "    for num in range(1 , a+1):\n",
    "        result = result * num\n",
    "\n",
    "    return result\n",
    "\n",
    "x = 5\n",
    "ans = factorial(x)\n",
    "print('factorial of number',x,'=',ans)"
   ]
  },
  {
   "cell_type": "markdown",
   "id": "590643e8",
   "metadata": {},
   "source": [
    "Q77. Write a Python program to calculate the simple interest. Formula to calculate simple interest is SI = (PRT)/100"
   ]
  },
  {
   "cell_type": "code",
   "execution_count": 85,
   "id": "f9624a78",
   "metadata": {},
   "outputs": [
    {
     "name": "stdout",
     "output_type": "stream",
     "text": [
      "The principal is 2\n",
      "The time period is 3\n",
      "The rate of interest is 5\n",
      "The Simple Interest is 0.3\n"
     ]
    },
    {
     "data": {
      "text/plain": [
       "0.3"
      ]
     },
     "execution_count": 85,
     "metadata": {},
     "output_type": "execute_result"
    }
   ],
   "source": [
    "def simple_interest(p,t,r):\n",
    "    print('The principal is', p)\n",
    "    print('The time period is', t)\n",
    "    print('The rate of interest is',r)\n",
    "     \n",
    "    SI = (p * t * r)/100\n",
    "     \n",
    "    print('The Simple Interest is', SI)\n",
    "    return SI\n",
    "\n",
    "simple_interest(2,3,5)"
   ]
  },
  {
   "cell_type": "markdown",
   "id": "5598e93b",
   "metadata": {},
   "source": [
    " Q78.Write a Python program to calculate the compound interest. Formula of compound interest is A = P(1+ R/100)^t."
   ]
  },
  {
   "cell_type": "code",
   "execution_count": null,
   "id": "71f964ad",
   "metadata": {},
   "outputs": [],
   "source": [
    "p= 1200 \n",
    "t= 2      \n",
    "r= 5.4    \n",
    "\n",
    "amount =p*(1+(r/100))**t\n",
    "\n",
    "CI =amount - p # amount - principal amount\n",
    "\n",
    "print(CI)"
   ]
  },
  {
   "cell_type": "markdown",
   "id": "c8008386",
   "metadata": {},
   "source": [
    "Q79. Write a Python program to check if a number is prime or not"
   ]
  },
  {
   "cell_type": "code",
   "execution_count": 84,
   "id": "b9a51b7d",
   "metadata": {},
   "outputs": [
    {
     "name": "stdout",
     "output_type": "stream",
     "text": [
      "9 it is not prime number\n"
     ]
    }
   ],
   "source": [
    "n = 9\n",
    "\n",
    "if n>1:\n",
    "        for i in range(2, n+1):\n",
    "            if (n % i == 0):\n",
    "                print(n,\"it is not prime number\")\n",
    "                break\n",
    "            \n",
    "        else:\n",
    "            print(n,'it is prime number')\n",
    "        \n",
    "else:\n",
    "    print(n, 'it is not prime number')"
   ]
  },
  {
   "cell_type": "markdown",
   "id": "1c9c6a40",
   "metadata": {},
   "source": [
    "Q80. Write a Python program to check Armstrong Number."
   ]
  },
  {
   "cell_type": "markdown",
   "id": "7ff3ad7b",
   "metadata": {},
   "source": []
  },
  {
   "cell_type": "markdown",
   "id": "6ebe55e9",
   "metadata": {},
   "source": [
    "Q81. Write a Python program to find the n-th Fibonacci Number."
   ]
  },
  {
   "cell_type": "markdown",
   "id": "97709e6f",
   "metadata": {},
   "source": []
  },
  {
   "cell_type": "markdown",
   "id": "3c603f85",
   "metadata": {},
   "source": [
    "Q82. Write a Python program to interchange the first and last element in a list."
   ]
  },
  {
   "cell_type": "code",
   "execution_count": null,
   "id": "fcb5fda2",
   "metadata": {},
   "outputs": [],
   "source": [
    "name = ['vivek','lokesh','gargesh','neha','riya']\n",
    "\n",
    "name[0]= 'riya'\n",
    "name[4]='vivek'\n",
    "print(name)\n"
   ]
  },
  {
   "cell_type": "markdown",
   "id": "1c22759d",
   "metadata": {},
   "source": [
    "Q83. Write a Python program to swap two elements in a list."
   ]
  },
  {
   "cell_type": "code",
   "execution_count": null,
   "id": "dbb8bf4d",
   "metadata": {},
   "outputs": [],
   "source": [
    "data = ['a','b','c','d','e','f','h']\n",
    "\n",
    "index1 = 1\n",
    "index2 = -1\n",
    "\n",
    "data[index1],data[index2] = data[index2],data[index1]\n",
    "print(data[index1],data[index2])\n",
    "print(data)\n"
   ]
  },
  {
   "cell_type": "markdown",
   "id": "4c28537d",
   "metadata": {},
   "source": [
    "Q84. Write a Python program to find N largest element from a list."
   ]
  },
  {
   "cell_type": "code",
   "execution_count": null,
   "id": "78b39327",
   "metadata": {},
   "outputs": [],
   "source": [
    "my_list = [5,7,2,6,15,48,2,54]\n",
    "print(max(my_list))"
   ]
  },
  {
   "cell_type": "markdown",
   "id": "8be540a1",
   "metadata": {},
   "source": [
    "Q85. Write a Python program to find cumulative sum of a list."
   ]
  },
  {
   "cell_type": "code",
   "execution_count": null,
   "id": "1a5c62d6",
   "metadata": {},
   "outputs": [],
   "source": [
    "list=[1, 2, 3, 4, 5, 6, 7, 8, 9, 10]  \n",
    "cum_list=[]   \n",
    "y = 0  \n",
    "for x in range(0,len(list)):  \n",
    "    y+=list[x]  \n",
    "    cum_list.append(y)   \n",
    "      \n",
    "print(cum_list)"
   ]
  },
  {
   "cell_type": "markdown",
   "id": "c92238f9",
   "metadata": {},
   "source": [
    "Q86. Write a Python program to check if a string is palindrome or not."
   ]
  },
  {
   "cell_type": "code",
   "execution_count": null,
   "id": "cb5086ba",
   "metadata": {},
   "outputs": [],
   "source": [
    "my_string=input(\"Enter string : \")\n",
    "if(my_string==my_string[::-1]):\n",
    "   print(\"The string is a palindrome\")\n",
    "else:\n",
    "   print(\"The string isn't a palindrome\")"
   ]
  },
  {
   "cell_type": "markdown",
   "id": "2d34ebd8",
   "metadata": {},
   "source": [
    "Q87. Write a Python program to remove i'th element from a string."
   ]
  },
  {
   "cell_type": "code",
   "execution_count": null,
   "id": "d0ea0515",
   "metadata": {},
   "outputs": [],
   "source": []
  },
  {
   "cell_type": "markdown",
   "id": "5fb1a9e8",
   "metadata": {},
   "source": [
    "Q88. Write a Python program to check if a substring is present in a given string."
   ]
  },
  {
   "cell_type": "code",
   "execution_count": null,
   "id": "7a6f1f5c",
   "metadata": {},
   "outputs": [],
   "source": []
  },
  {
   "cell_type": "markdown",
   "id": "60651af6",
   "metadata": {},
   "source": [
    "Q89. Write a Python program to find words which are greater than given length k."
   ]
  },
  {
   "cell_type": "markdown",
   "id": "d8315283",
   "metadata": {},
   "source": []
  },
  {
   "cell_type": "markdown",
   "id": "97de6847",
   "metadata": {},
   "source": [
    "Q90. Write a Python program to extract unquire dictionary values."
   ]
  },
  {
   "cell_type": "code",
   "execution_count": null,
   "id": "fe6f0785",
   "metadata": {},
   "outputs": [],
   "source": []
  },
  {
   "cell_type": "markdown",
   "id": "9e87c38d",
   "metadata": {},
   "source": [
    "Q91.Write a Python program to merge two dictionary."
   ]
  },
  {
   "cell_type": "code",
   "execution_count": null,
   "id": "ae4a21e1",
   "metadata": {},
   "outputs": [],
   "source": [
    "dict_1 = {'vivek':22,'lokesh':25}\n",
    "dict_2 = {'monu':23,'sonu':27}\n",
    "\n",
    "merging = {**dict_1,**dict_2}\n",
    "print(merging)"
   ]
  },
  {
   "cell_type": "markdown",
   "id": "1e2cce3e",
   "metadata": {},
   "source": [
    "Q92. Write a Python program to convert a list of tuples into dictionary.\n",
    "\n",
    "Input : [('Sachin', 10), ('MSD', 7), ('Kohli', 18), ('Rohit', 45)]\n",
    "Output : {'Sachin': 10, 'MSD': 7, 'Kohli': 18, 'Rohit': 45}"
   ]
  },
  {
   "cell_type": "code",
   "execution_count": null,
   "id": "460dc987",
   "metadata": {},
   "outputs": [],
   "source": [
    "Input = [('Sachin', 10), ('MSD', 7), ('Kohli', 18), ('Rohit', 45)]\n",
    "\n",
    "print(dict(Input))"
   ]
  },
  {
   "cell_type": "markdown",
   "id": "8c8aa95c",
   "metadata": {},
   "source": [
    "Q93. Write a Python program to create a list of tuples from given list having number and its cube in each tuple.\n",
    "\n",
    "Input: list = [9, 5, 6]\n",
    "Output: [(9, 729), (5, 125), (6, 216)]"
   ]
  },
  {
   "cell_type": "code",
   "execution_count": null,
   "id": "80e41248",
   "metadata": {},
   "outputs": [],
   "source": [
    "list1 = [9, 5, 6]\n",
    "output = [(val , val**3) for val in list1]\n",
    "print(output)"
   ]
  },
  {
   "cell_type": "markdown",
   "id": "34133f33",
   "metadata": {},
   "source": [
    "Q94. Write a Python program to get all combinations of 2 tuples.\n",
    "\n",
    "Input : test_tuple1 = (7, 2), test_tuple2 = (7, 8)\n",
    "Output : [(7, 7), (7, 8), (2, 7), (2, 8), (7, 7), (7, 2), (8, 7), (8, 2)]"
   ]
  },
  {
   "cell_type": "code",
   "execution_count": null,
   "id": "d91e7b81",
   "metadata": {},
   "outputs": [],
   "source": [
    "test_tuple1 = (7, 2)\n",
    "test_tuple2 = (7, 8)\n",
    "\n",
    "result = [(a,b) for a in test_tuple1 for b in test_tuple2]\n",
    "result = result + [(a,b) for a in test_tuple2 for b in test_tuple1]\n",
    "\n",
    "print(result)\n"
   ]
  },
  {
   "cell_type": "markdown",
   "id": "7d1084bc",
   "metadata": {},
   "source": [
    "Q95. Write a Python program to sort a list of tuples by second item.\n",
    "\n",
    "Input : [('for', 24), ('Geeks', 8), ('Geeks', 30)] \n",
    "Output : [('Geeks', 8), ('for', 24), ('Geeks', 30)]"
   ]
  },
  {
   "cell_type": "code",
   "execution_count": null,
   "id": "09c342a6",
   "metadata": {},
   "outputs": [],
   "source": [
    "Input = [('for', 24), ('Geeks', 8), ('Geeks', 30)]\n",
    "\n",
    "input.sort(key = lambda elements : elements[1])\n"
   ]
  },
  {
   "cell_type": "code",
   "execution_count": null,
   "id": "812d79bf",
   "metadata": {},
   "outputs": [],
   "source": [
    "Q96. Write a python program to print below pattern.\n",
    "\n",
    "* \n",
    "* * \n",
    "* * * \n",
    "* * * * \n",
    "* * * * *  "
   ]
  },
  {
   "cell_type": "code",
   "execution_count": null,
   "id": "17163b6d",
   "metadata": {},
   "outputs": [],
   "source": [
    "n = 5\n",
    "for i in range(n):\n",
    "    for j in range(i + 1):\n",
    "        print('*', end=' ')\n",
    "    print()"
   ]
  },
  {
   "cell_type": "code",
   "execution_count": null,
   "id": "629cea0b",
   "metadata": {},
   "outputs": [],
   "source": [
    "Q97. Write a python program to print below pattern.\n",
    "\n",
    "    *\n",
    "   **\n",
    "  ***\n",
    " ****\n",
    "*****"
   ]
  },
  {
   "cell_type": "code",
   "execution_count": null,
   "id": "f119247b",
   "metadata": {},
   "outputs": [],
   "source": [
    "n = 5\n",
    "for i in range(n):\n",
    "    for j in range(i,n):\n",
    "        print(' ',end=' ')\n",
    "    for j in range(i + 1):\n",
    "        print('*',end=' ')\n",
    "    print()"
   ]
  },
  {
   "cell_type": "code",
   "execution_count": null,
   "id": "5e9bcc2b",
   "metadata": {},
   "outputs": [],
   "source": [
    "Q98. Write a python program to print below pattern.\n",
    "\n",
    "    * \n",
    "   * * \n",
    "  * * * \n",
    " * * * * \n",
    "* * * * * "
   ]
  },
  {
   "cell_type": "code",
   "execution_count": null,
   "id": "7deeb4c6",
   "metadata": {},
   "outputs": [],
   "source": [
    "n = 5\n",
    "for i in range(n):\n",
    "    for j in range(i,n):\n",
    "        print('',end=' ')\n",
    "    for j in range(i+1):\n",
    "        print('*',end=' ')\n",
    "    print()"
   ]
  },
  {
   "cell_type": "code",
   "execution_count": null,
   "id": "66369428",
   "metadata": {},
   "outputs": [],
   "source": [
    "Q99. Write a python program to print below pattern.\n",
    "\n",
    "1 \n",
    "1 2 \n",
    "1 2 3 \n",
    "1 2 3 4 \n",
    "1 2 3 4 5"
   ]
  },
  {
   "cell_type": "code",
   "execution_count": null,
   "id": "e5a28ffc",
   "metadata": {},
   "outputs": [],
   "source": [
    "n = 6\n",
    "for i in range(1,n):\n",
    "    for j in range(1, i + 1):\n",
    "        print(j,end=' ')\n",
    "    print()"
   ]
  },
  {
   "cell_type": "code",
   "execution_count": null,
   "id": "9713775f",
   "metadata": {},
   "outputs": [],
   "source": [
    "Q100. Write a python program to print below pattern.\n",
    "\n",
    "A \n",
    "B B \n",
    "C C C \n",
    "D D D D \n",
    "E E E E E "
   ]
  },
  {
   "cell_type": "code",
   "execution_count": null,
   "id": "54a9c858",
   "metadata": {},
   "outputs": [],
   "source": [
    "n = 5\n",
    "p = 65 \n",
    "for i in range(n):\n",
    "    for j in range(i+1):\n",
    "        print(chr(p),end=' ')\n",
    "    p +=1\n",
    "    print()"
   ]
  },
  {
   "cell_type": "markdown",
   "id": "d09ab2a7",
   "metadata": {},
   "source": []
  },
  {
   "cell_type": "markdown",
   "id": "8e437122",
   "metadata": {},
   "source": []
  }
 ],
 "metadata": {
  "kernelspec": {
   "display_name": "Python 3",
   "language": "python",
   "name": "python3"
  },
  "language_info": {
   "codemirror_mode": {
    "name": "ipython",
    "version": 3
   },
   "file_extension": ".py",
   "mimetype": "text/x-python",
   "name": "python",
   "nbconvert_exporter": "python",
   "pygments_lexer": "ipython3",
   "version": "3.8.8"
  }
 },
 "nbformat": 4,
 "nbformat_minor": 5
}
